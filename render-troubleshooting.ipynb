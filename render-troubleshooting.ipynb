{
 "cells": [
  {
   "cell_type": "markdown",
   "id": "53149040",
   "metadata": {},
   "source": [
    "# 🔧 Solución de Errores de Deploy en Render\n",
    "\n",
    "Este notebook documenta la solución para el error `Cannot find module 'glob'` en el deploy de Render.\n",
    "\n",
    "## 📋 Problema Detectado\n",
    "```\n",
    "Error: Cannot find module 'glob'\n",
    "Require stack:\n",
    "- /opt/render/project/src/src/generate.js\n",
    "```"
   ]
  },
  {
   "cell_type": "markdown",
   "id": "956177c4",
   "metadata": {},
   "source": [
    "## 1. Verificar Dependencias del Proyecto\n",
    "\n",
    "Primero verificamos qué dependencias están listadas en el package.json y cuáles están instaladas."
   ]
  },
  {
   "cell_type": "code",
   "execution_count": null,
   "id": "248d5c74",
   "metadata": {},
   "outputs": [],
   "source": [
    "# Verificar dependencias en package.json\n",
    "echo \"📦 Dependencias listadas en package.json:\"\n",
    "cat package.json | grep -A 20 '\"dependencies\"'\n",
    "\n",
    "echo \"\\n📂 Verificar si node_modules existe:\"\n",
    "ls -la | grep node_modules\n",
    "\n",
    "echo \"\\n🔍 Buscar módulo 'glob' específicamente:\"\n",
    "ls node_modules/ | grep glob || echo \"❌ Módulo 'glob' no encontrado\""
   ]
  },
  {
   "cell_type": "markdown",
   "id": "dbcf60b8",
   "metadata": {},
   "source": [
    "## 2. Instalar Módulos Faltantes\n",
    "\n",
    "El módulo 'glob' está listado en las dependencias pero no se está instalando correctamente."
   ]
  },
  {
   "cell_type": "code",
   "execution_count": null,
   "id": "d087cb93",
   "metadata": {},
   "outputs": [],
   "source": [
    "# Instalar el módulo glob específicamente\n",
    "echo \"🔧 Instalando módulo 'glob'...\"\n",
    "npm install glob\n",
    "\n",
    "echo \"\\n✅ Verificar instalación:\"\n",
    "npm list glob"
   ]
  },
  {
   "cell_type": "markdown",
   "id": "f91689a1",
   "metadata": {},
   "source": [
    "## 3. Revisar package.json\n",
    "\n",
    "Analizamos el archivo package.json para verificar que todas las dependencias estén correctamente declaradas."
   ]
  },
  {
   "cell_type": "code",
   "execution_count": null,
   "id": "b65e5507",
   "metadata": {},
   "outputs": [],
   "source": [
    "// Verificar que todas las dependencias requeridas estén en package.json\n",
    "const fs = require('fs');\n",
    "const packageJson = JSON.parse(fs.readFileSync('package.json', 'utf8'));\n",
    "\n",
    "console.log('📋 Dependencias actuales:');\n",
    "console.log(JSON.stringify(packageJson.dependencies, null, 2));\n",
    "\n",
    "// Verificar dependencias específicas del proyecto\n",
    "const requiredDeps = ['express', 'glob', 'handlebars', 'shiki', 'gray-matter', 'express-handlebars'];\n",
    "const missingDeps = requiredDeps.filter(dep => !packageJson.dependencies[dep]);\n",
    "\n",
    "if (missingDeps.length > 0) {\n",
    "    console.log('❌ Dependencias faltantes:', missingDeps);\n",
    "} else {\n",
    "    console.log('✅ Todas las dependencias requeridas están presentes');\n",
    "}"
   ]
  },
  {
   "cell_type": "markdown",
   "id": "08b07ec9",
   "metadata": {},
   "source": [
    "## 4. Ejecutar npm install\n",
    "\n",
    "Instalamos todas las dependencias del proyecto desde cero."
   ]
  },
  {
   "cell_type": "code",
   "execution_count": null,
   "id": "6c9ada9b",
   "metadata": {},
   "outputs": [],
   "source": [
    "# Limpiar instalación anterior\n",
    "echo \"🧹 Limpiando node_modules anterior...\"\n",
    "rm -rf node_modules package-lock.json\n",
    "\n",
    "echo \"📦 Instalando todas las dependencias...\"\n",
    "npm install\n",
    "\n",
    "echo \"\\n🔍 Verificar instalación completa:\"\n",
    "npm list --depth=0"
   ]
  },
  {
   "cell_type": "markdown",
   "id": "bb942796",
   "metadata": {},
   "source": [
    "## 5. Verificar Versiones de Node.js\n",
    "\n",
    "Comprobamos la compatibilidad entre Node.js y las dependencias."
   ]
  },
  {
   "cell_type": "code",
   "execution_count": null,
   "id": "8a57d78a",
   "metadata": {},
   "outputs": [],
   "source": [
    "# Verificar versiones\n",
    "echo \"🟢 Versión de Node.js:\"\n",
    "node --version\n",
    "\n",
    "echo \"\\n📦 Versión de npm:\"\n",
    "npm --version\n",
    "\n",
    "echo \"\\n⚙️ Engines especificados en package.json:\"\n",
    "cat package.json | grep -A 5 '\"engines\"'\n",
    "\n",
    "echo \"\\n🔧 Verificar compatibilidad con glob:\"\n",
    "npm info glob engines"
   ]
  },
  {
   "cell_type": "markdown",
   "id": "ded9ed23",
   "metadata": {},
   "source": [
    "## 6. Solucionar Problemas de Rutas de Módulos\n",
    "\n",
    "Diagnosticamos problemas relacionados con rutas de módulos y estructura de directorios."
   ]
  },
  {
   "cell_type": "code",
   "execution_count": null,
   "id": "d45f2593",
   "metadata": {},
   "outputs": [],
   "source": [
    "// Verificar rutas de módulos\n",
    "console.log('📂 Directorio actual:', process.cwd());\n",
    "console.log('🔍 Rutas de módulos de Node.js:');\n",
    "console.log(module.paths);\n",
    "\n",
    "// Intentar require del módulo glob\n",
    "try {\n",
    "    const glob = require('glob');\n",
    "    console.log('✅ Módulo glob cargado correctamente');\n",
    "    console.log('📍 Ubicación del módulo:', require.resolve('glob'));\n",
    "} catch (error) {\n",
    "    console.log('❌ Error al cargar glob:', error.message);\n",
    "}\n",
    "\n",
    "// Verificar estructura de directorios\n",
    "const fs = require('fs');\n",
    "console.log('\\n📁 Estructura del proyecto:');\n",
    "const files = fs.readdirSync('.', { withFileTypes: true });\n",
    "files.forEach(file => {\n",
    "    const icon = file.isDirectory() ? '📁' : '📄';\n",
    "    console.log(`${icon} ${file.name}`);\n",
    "});"
   ]
  },
  {
   "cell_type": "markdown",
   "id": "c8f167fc",
   "metadata": {},
   "source": [
    "## 🚀 Solución Aplicada\n",
    "\n",
    "### Problema Principal\n",
    "Render estaba ejecutando el build sin instalar las dependencias primero.\n",
    "\n",
    "### Soluciones Implementadas\n",
    "1. **Modificar el comando de build** en Render para incluir instalación de dependencias\n",
    "2. **Actualizar package.json** con engines específicos\n",
    "3. **Crear script de build personalizado** para Render\n",
    "\n",
    "### Configuración Final en Render\n",
    "- **Build Command:** `npm ci && npm run build`\n",
    "- **Start Command:** `npm start`\n",
    "- **Node Version:** 18+ (especificado en engines)"
   ]
  },
  {
   "cell_type": "markdown",
   "id": "3e5ab70c",
   "metadata": {},
   "source": [
    "## 🎭 Nuevo Error: Playwright no encontrado\n",
    "\n",
    "### Problema Detectado\n",
    "```\n",
    "> playwright install chromium\n",
    "sh: 1: playwright: not found\n",
    "npm error code 127\n",
    "```\n",
    "\n",
    "El script `postinstall` se ejecuta inmediatamente después de `npm ci`, pero Playwright aún no está disponible en el PATH."
   ]
  },
  {
   "cell_type": "code",
   "execution_count": null,
   "id": "aeb279c8",
   "metadata": {
    "vscode": {
     "languageId": "javascript"
    }
   },
   "outputs": [],
   "source": [
    "// Solución: Modificar el postinstall para usar npx\n",
    "// El problema es que playwright no está en el PATH cuando se ejecuta postinstall\n",
    "\n",
    "console.log('🔧 Diagnosticando problema de Playwright...');\n",
    "\n",
    "// Verificar si playwright está instalado\n",
    "const fs = require('fs');\n",
    "const path = require('path');\n",
    "\n",
    "const playwrightPath = path.join('node_modules', '.bin', 'playwright');\n",
    "const packageJsonPath = 'package.json';\n",
    "\n",
    "if (fs.existsSync(packageJsonPath)) {\n",
    "    const packageJson = JSON.parse(fs.readFileSync(packageJsonPath, 'utf8'));\n",
    "    console.log('📦 Scripts actuales:', packageJson.scripts);\n",
    "    \n",
    "    // Mostrar la solución\n",
    "    const newScripts = {\n",
    "        ...packageJson.scripts,\n",
    "        \"postinstall\": \"npx playwright install chromium\"\n",
    "    };\n",
    "    \n",
    "    console.log('✅ Script corregido:', newScripts.postinstall);\n",
    "}"
   ]
  }
 ],
 "metadata": {
  "language_info": {
   "name": "python"
  }
 },
 "nbformat": 4,
 "nbformat_minor": 5
}
